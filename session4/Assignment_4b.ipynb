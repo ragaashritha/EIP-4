{
  "nbformat": 4,
  "nbformat_minor": 0,
  "metadata": {
    "colab": {
      "name": "Assignment-4b.ipynb",
      "provenance": [],
      "collapsed_sections": [],
      "include_colab_link": true
    },
    "kernelspec": {
      "name": "python3",
      "display_name": "Python 3"
    }
  },
  "cells": [
    {
      "cell_type": "markdown",
      "metadata": {
        "id": "view-in-github",
        "colab_type": "text"
      },
      "source": [
        "<a href=\"https://colab.research.google.com/github/ragaashritha/EIP-4/blob/master/session4/Assignment_4b.ipynb\" target=\"_parent\"><img src=\"https://colab.research.google.com/assets/colab-badge.svg\" alt=\"Open In Colab\"/></a>"
      ]
    },
    {
      "cell_type": "code",
      "metadata": {
        "id": "NeCMD5w9a3u3",
        "colab_type": "code",
        "colab": {}
      },
      "source": [
        "from __future__ import print_function\n",
        "import keras\n",
        "from keras.layers import Dense, Conv2D, BatchNormalization, Activation\n",
        "from keras.layers import AveragePooling2D, Input, Flatten\n",
        "from keras.optimizers import Adam\n",
        "from keras.callbacks import ModelCheckpoint, LearningRateScheduler\n",
        "from keras.callbacks import ReduceLROnPlateau\n",
        "from keras.preprocessing.image import ImageDataGenerator\n",
        "from keras.regularizers import l2\n",
        "from keras import backend as K\n",
        "from keras.models import Model\n",
        "from keras.models import load_model\n",
        "from keras.datasets import cifar10\n",
        "import numpy as np\n",
        "import os\n"
      ],
      "execution_count": 0,
      "outputs": []
    },
    {
      "cell_type": "code",
      "metadata": {
        "id": "VH9aebZ_a-Pd",
        "colab_type": "code",
        "colab": {}
      },
      "source": [
        "# Training parameters\n",
        "batch_size = 32  # orig paper trained all networks with batch_size=128\n",
        "epochs = 50\n",
        "data_augmentation = True\n",
        "num_classes = 10\n",
        "\n",
        "# Subtracting pixel mean improves accuracy\n",
        "subtract_pixel_mean = True\n",
        "\n",
        "# Model parameter\n",
        "n = 2\n",
        "\n",
        "# Model version\n",
        "# Orig paper: version = 1 (ResNet v1), Improved ResNet: version = 2 (ResNet v2)\n",
        "version = 2\n",
        "\n",
        "# Computed depth from supplied model parameter n\n",
        "if version == 1:\n",
        "    depth = n * 6 + 2\n",
        "elif version == 2:\n",
        "    depth = n * 9 + 2\n",
        "\n",
        "# Model name, depth and version\n",
        "model_type = 'ResNet%dv%d' % (depth, version)"
      ],
      "execution_count": 0,
      "outputs": []
    },
    {
      "cell_type": "code",
      "metadata": {
        "id": "hTeOm0xDbWPL",
        "colab_type": "code",
        "outputId": "e648bc8a-9a0c-4f9a-ff60-8815753ffefd",
        "colab": {
          "base_uri": "https://localhost:8080/",
          "height": 34
        }
      },
      "source": [
        "model_type"
      ],
      "execution_count": 100,
      "outputs": [
        {
          "output_type": "execute_result",
          "data": {
            "text/plain": [
              "'ResNet20v2'"
            ]
          },
          "metadata": {
            "tags": []
          },
          "execution_count": 100
        }
      ]
    },
    {
      "cell_type": "code",
      "metadata": {
        "id": "u35s0eMlbZeI",
        "colab_type": "code",
        "colab": {}
      },
      "source": [
        "# Load the CIFAR10 data.\n",
        "(x_train, y_train), (x_test, y_test) = cifar10.load_data()\n",
        "\n",
        "# Input image dimensions.\n",
        "input_shape = x_train.shape[1:]"
      ],
      "execution_count": 0,
      "outputs": []
    },
    {
      "cell_type": "code",
      "metadata": {
        "id": "LlpIPE_XbtS2",
        "colab_type": "code",
        "outputId": "f166c21d-92a5-490c-b07a-9ad1ab689be7",
        "colab": {
          "base_uri": "https://localhost:8080/",
          "height": 85
        }
      },
      "source": [
        "# Normalize data.\n",
        "x_train = x_train.astype('float32') / 255\n",
        "x_test = x_test.astype('float32') / 255\n",
        "\n",
        "# If subtract pixel mean is enabled\n",
        "if subtract_pixel_mean:\n",
        "    x_train_mean = np.mean(x_train, axis=0)\n",
        "    x_train -= x_train_mean\n",
        "    x_test -= x_train_mean\n",
        "\n",
        "print('x_train shape:', x_train.shape)\n",
        "print(x_train.shape[0], 'train samples')\n",
        "print(x_test.shape[0], 'test samples')\n",
        "print('y_train shape:', y_train.shape)\n",
        "\n",
        "# Convert class vectors to binary class matrices.\n",
        "y_train = keras.utils.to_categorical(y_train, num_classes)\n",
        "y_test = keras.utils.to_categorical(y_test, num_classes)\n",
        "\n",
        "\n",
        "def lr_schedule(epoch):\n",
        "    lr = 1e-3\n",
        "    if epoch > 180:\n",
        "        lr *= 0.5e-3\n",
        "    elif epoch > 160:\n",
        "        lr *= 1e-3\n",
        "    elif epoch > 40:\n",
        "        lr *= 1e-2\n",
        "    elif epoch > 20:\n",
        "        lr *= 1e-1\n",
        "    print('Learning rate: ', lr)\n",
        "    return lr"
      ],
      "execution_count": 102,
      "outputs": [
        {
          "output_type": "stream",
          "text": [
            "x_train shape: (50000, 32, 32, 3)\n",
            "50000 train samples\n",
            "10000 test samples\n",
            "y_train shape: (50000, 1)\n"
          ],
          "name": "stdout"
        }
      ]
    },
    {
      "cell_type": "code",
      "metadata": {
        "id": "EoFC6Cnubv2w",
        "colab_type": "code",
        "colab": {}
      },
      "source": [
        "def resnet_layer(inputs,\n",
        "                 num_filters=16,\n",
        "                 kernel_size=3,\n",
        "                 strides=1,\n",
        "                 activation='relu',\n",
        "                 batch_normalization=True,\n",
        "                 conv_first=True):\n",
        "  \n",
        "    conv = Conv2D(num_filters,\n",
        "                  kernel_size=kernel_size,\n",
        "                  strides=strides,\n",
        "                  padding='same',\n",
        "                  kernel_initializer='he_normal',\n",
        "                  kernel_regularizer=l2(1e-4))\n",
        "\n",
        "    x = inputs\n",
        "    if conv_first:\n",
        "        x = conv(x)\n",
        "        if batch_normalization:\n",
        "            x = BatchNormalization()(x)\n",
        "        if activation is not None:\n",
        "            x = Activation(activation)(x)\n",
        "    else:\n",
        "        if batch_normalization:\n",
        "            x = BatchNormalization()(x)\n",
        "        if activation is not None:\n",
        "            x = Activation(activation)(x)\n",
        "        x = conv(x)\n",
        "    return x\n"
      ],
      "execution_count": 0,
      "outputs": []
    },
    {
      "cell_type": "code",
      "metadata": {
        "id": "13cfoim0cXT3",
        "colab_type": "code",
        "colab": {}
      },
      "source": [
        "def resnet_v1(input_shape, depth, num_classes=10):\n",
        "    \"\"\"ResNet Version 1 Model builder [a]\n",
        "\n",
        "    Stacks of 2 x (3 x 3) Conv2D-BN-ReLU\n",
        "    Last ReLU is after the shortcut connection.\n",
        "    At the beginning of each stage, the feature map size is halved (downsampled)\n",
        "    by a convolutional layer with strides=2, while the number of filters is\n",
        "    doubled. Within each stage, the layers have the same number filters and the\n",
        "    same number of filters.\n",
        "    Features maps sizes:\n",
        "    stage 0: 32x32, 16\n",
        "    stage 1: 16x16, 32\n",
        "    stage 2:  8x8,  64\n",
        "    The Number of parameters is approx the same as Table 6 of [a]:\n",
        "    ResNet20 0.27M\n",
        "    ResNet32 0.46M\n",
        "    ResNet44 0.66M\n",
        "    ResNet56 0.85M\n",
        "    ResNet110 1.7M\n",
        "\n",
        "    # Arguments\n",
        "        input_shape (tensor): shape of input image tensor\n",
        "        depth (int): number of core convolutional layers\n",
        "        num_classes (int): number of classes (CIFAR10 has 10)\n",
        "\n",
        "    # Returns\n",
        "        model (Model): Keras model instance\n",
        "    \"\"\"\n",
        "    if (depth - 2) % 6 != 0:\n",
        "        raise ValueError('depth should be 6n+2 (eg 20, 32, 44 in [a])')\n",
        "    # Start model definition.\n",
        "    num_filters = 16\n",
        "    num_res_blocks = int((depth - 2) / 6)\n",
        "\n",
        "    inputs = Input(shape=input_shape)\n",
        "    x = resnet_layer(inputs=inputs)\n",
        "    # Instantiate the stack of residual units\n",
        "    for stack in range(3):\n",
        "        for res_block in range(num_res_blocks):\n",
        "            strides = 1\n",
        "            if stack > 0 and res_block == 0:  # first layer but not first stack\n",
        "                strides = 2  # downsample\n",
        "            y = resnet_layer(inputs=x,\n",
        "                             num_filters=num_filters,\n",
        "                             strides=strides)\n",
        "            y = resnet_layer(inputs=y,\n",
        "                             num_filters=num_filters,\n",
        "                             activation=None)\n",
        "            if stack > 0 and res_block == 0:  # first layer but not first stack\n",
        "                # linear projection residual shortcut connection to match\n",
        "                # changed dims\n",
        "                x = resnet_layer(inputs=x,\n",
        "                                 num_filters=num_filters,\n",
        "                                 kernel_size=1,\n",
        "                                 strides=strides,\n",
        "                                 activation=None,\n",
        "                                 batch_normalization=False)\n",
        "            x = keras.layers.add([x, y])\n",
        "            x = Activation('relu')(x)\n",
        "        num_filters *= 2\n",
        "\n",
        "    # Add classifier on top.\n",
        "    # v1 does not use BN after last shortcut connection-ReLU\n",
        "    x = AveragePooling2D(pool_size=8)(x)\n",
        "    y = Flatten()(x)\n",
        "    outputs = Dense(num_classes,\n",
        "                    activation='softmax',\n",
        "                    kernel_initializer='he_normal')(y)\n",
        "\n",
        "    # Instantiate model.\n",
        "    #model = Model(inputs=inputs, outputs=outputs)\n",
        "    model = load_model('cifar10_ResNet20v1_model.041.h5')\n",
        "    return model"
      ],
      "execution_count": 0,
      "outputs": []
    },
    {
      "cell_type": "code",
      "metadata": {
        "id": "0VmxZdCVcjC6",
        "colab_type": "code",
        "colab": {}
      },
      "source": [
        "model = resnet_v1(input_shape=input_shape, depth=depth)"
      ],
      "execution_count": 0,
      "outputs": []
    },
    {
      "cell_type": "code",
      "metadata": {
        "id": "SK5IvinDUEyf",
        "colab_type": "code",
        "outputId": "b75b2286-ebc1-4c60-9265-2dced8c8c6a9",
        "colab": {
          "base_uri": "https://localhost:8080/",
          "height": 34
        }
      },
      "source": [
        ""
      ],
      "execution_count": 0,
      "outputs": [
        {
          "output_type": "execute_result",
          "data": {
            "text/plain": [
              "'/content/drive/My Drive/epi-Assignment4B'"
            ]
          },
          "metadata": {
            "tags": []
          },
          "execution_count": 27
        }
      ]
    },
    {
      "cell_type": "code",
      "metadata": {
        "id": "8u1jO1cScmWI",
        "colab_type": "code",
        "outputId": "3aa201b2-1475-4401-afab-1eaea8baac1c",
        "colab": {
          "base_uri": "https://localhost:8080/",
          "height": 1000
        }
      },
      "source": [
        "model.compile(loss='categorical_crossentropy',\n",
        "              optimizer=Adam(lr=lr_schedule(0)),\n",
        "              metrics=['accuracy'])\n",
        "model.summary()\n",
        "print(model_type)\n",
        "\n",
        "# Prepare model model saving directory.\n",
        "os.chdir('/content/drive/My Drive/epi-Assignment4B')\n",
        "save_dir = os.path.join(os.getcwd(), 'saved_models')\n",
        "model_name = 'cifar10_%s_model.{epoch:03d}.h5' % model_type\n",
        "if not os.path.isdir(save_dir):\n",
        "    os.makedirs(save_dir)\n",
        "filepath = os.path.join(save_dir, model_name)\n",
        "\n",
        "# Prepare callbacks for model saving and for learning rate adjustment.\n",
        "checkpoint = ModelCheckpoint(filepath=filepath,\n",
        "                             monitor='val_acc',\n",
        "                             verbose=1,\n",
        "                             save_best_only=True)\n",
        "\n",
        "lr_scheduler = LearningRateScheduler(lr_schedule)\n",
        "\n",
        "lr_reducer = ReduceLROnPlateau(factor=np.sqrt(0.1),\n",
        "                               cooldown=0,\n",
        "                               patience=5,\n",
        "                               min_lr=0.5e-6)\n",
        "\n",
        "callbacks = [checkpoint, lr_reducer, lr_scheduler]\n",
        "\n",
        "# Run training, with or without data augmentation.\n",
        "if not data_augmentation:\n",
        "    print('Not using data augmentation.')\n",
        "    model.fit(x_train, y_train,\n",
        "              batch_size=batch_size,\n",
        "              epochs=epochs,\n",
        "              validation_data=(x_test, y_test),\n",
        "              shuffle=True,\n",
        "              callbacks=callbacks)\n",
        "else:\n",
        "    print('Using real-time data augmentation.')\n",
        "    # This will do preprocessing and realtime data augmentation:\n",
        "    datagen = ImageDataGenerator(\n",
        "        # set input mean to 0 over the dataset\n",
        "        featurewise_center=False,\n",
        "        # set each sample mean to 0\n",
        "        samplewise_center=False,\n",
        "        # divide inputs by std of dataset\n",
        "        featurewise_std_normalization=False,\n",
        "        # divide each input by its std\n",
        "        samplewise_std_normalization=False,\n",
        "        # apply ZCA whitening\n",
        "        zca_whitening=False,\n",
        "        # epsilon for ZCA whitening\n",
        "        zca_epsilon=1e-06,\n",
        "        # randomly rotate images in the range (deg 0 to 180)\n",
        "        rotation_range=0,\n",
        "        # randomly shift images horizontally\n",
        "        width_shift_range=0.1,\n",
        "        # randomly shift images vertically\n",
        "        height_shift_range=0.1,\n",
        "        # set range for random shear\n",
        "        shear_range=0.,\n",
        "        # set range for random zoom\n",
        "        zoom_range=0.,\n",
        "        # set range for random channel shifts\n",
        "        channel_shift_range=0.,\n",
        "        # set mode for filling points outside the input boundaries\n",
        "        fill_mode='nearest',\n",
        "        # value used for fill_mode = \"constant\"\n",
        "        cval=0.,\n",
        "        # randomly flip images\n",
        "        horizontal_flip=True,\n",
        "        # randomly flip images\n",
        "        vertical_flip=False,\n",
        "        # set rescaling factor (applied before any other transformation)\n",
        "        rescale=None,\n",
        "        # set function that will be applied on each input\n",
        "        preprocessing_function=None,\n",
        "        # image data format, either \"channels_first\" or \"channels_last\"\n",
        "        data_format=None,\n",
        "        # fraction of images reserved for validation (strictly between 0 and 1)\n",
        "        validation_split=0.0)\n",
        "\n",
        "    # Compute quantities required for featurewise normalization\n",
        "    # (std, mean, and principal components if ZCA whitening is applied).\n",
        "    datagen.fit(x_train)\n",
        "\n",
        "    # Fit the model on the batches generated by datagen.flow().\n",
        "    model.fit_generator(datagen.flow(x_train, y_train, batch_size=batch_size),\n",
        "                        validation_data=(x_test, y_test),\n",
        "                        epochs=epochs, verbose=1, workers=4,\n",
        "                        callbacks=callbacks)\n",
        "\n",
        "# Score trained model.\n",
        "scores = model.evaluate(x_test, y_test, verbose=1)\n",
        "print('Test loss:', scores[0])\n",
        "print('Test accuracy:', scores[1])"
      ],
      "execution_count": 0,
      "outputs": [
        {
          "output_type": "stream",
          "text": [
            "Learning rate:  0.001\n",
            "Model: \"model_4\"\n",
            "__________________________________________________________________________________________________\n",
            "Layer (type)                    Output Shape         Param #     Connected to                     \n",
            "==================================================================================================\n",
            "input_4 (InputLayer)            (None, 32, 32, 3)    0                                            \n",
            "__________________________________________________________________________________________________\n",
            "conv2d_64 (Conv2D)              (None, 32, 32, 16)   448         input_4[0][0]                    \n",
            "__________________________________________________________________________________________________\n",
            "batch_normalization_58 (BatchNo (None, 32, 32, 16)   64          conv2d_64[0][0]                  \n",
            "__________________________________________________________________________________________________\n",
            "activation_58 (Activation)      (None, 32, 32, 16)   0           batch_normalization_58[0][0]     \n",
            "__________________________________________________________________________________________________\n",
            "conv2d_65 (Conv2D)              (None, 32, 32, 16)   2320        activation_58[0][0]              \n",
            "__________________________________________________________________________________________________\n",
            "batch_normalization_59 (BatchNo (None, 32, 32, 16)   64          conv2d_65[0][0]                  \n",
            "__________________________________________________________________________________________________\n",
            "activation_59 (Activation)      (None, 32, 32, 16)   0           batch_normalization_59[0][0]     \n",
            "__________________________________________________________________________________________________\n",
            "conv2d_66 (Conv2D)              (None, 32, 32, 16)   2320        activation_59[0][0]              \n",
            "__________________________________________________________________________________________________\n",
            "batch_normalization_60 (BatchNo (None, 32, 32, 16)   64          conv2d_66[0][0]                  \n",
            "__________________________________________________________________________________________________\n",
            "add_28 (Add)                    (None, 32, 32, 16)   0           activation_58[0][0]              \n",
            "                                                                 batch_normalization_60[0][0]     \n",
            "__________________________________________________________________________________________________\n",
            "activation_60 (Activation)      (None, 32, 32, 16)   0           add_28[0][0]                     \n",
            "__________________________________________________________________________________________________\n",
            "conv2d_67 (Conv2D)              (None, 32, 32, 16)   2320        activation_60[0][0]              \n",
            "__________________________________________________________________________________________________\n",
            "batch_normalization_61 (BatchNo (None, 32, 32, 16)   64          conv2d_67[0][0]                  \n",
            "__________________________________________________________________________________________________\n",
            "activation_61 (Activation)      (None, 32, 32, 16)   0           batch_normalization_61[0][0]     \n",
            "__________________________________________________________________________________________________\n",
            "conv2d_68 (Conv2D)              (None, 32, 32, 16)   2320        activation_61[0][0]              \n",
            "__________________________________________________________________________________________________\n",
            "batch_normalization_62 (BatchNo (None, 32, 32, 16)   64          conv2d_68[0][0]                  \n",
            "__________________________________________________________________________________________________\n",
            "add_29 (Add)                    (None, 32, 32, 16)   0           activation_60[0][0]              \n",
            "                                                                 batch_normalization_62[0][0]     \n",
            "__________________________________________________________________________________________________\n",
            "activation_62 (Activation)      (None, 32, 32, 16)   0           add_29[0][0]                     \n",
            "__________________________________________________________________________________________________\n",
            "conv2d_69 (Conv2D)              (None, 32, 32, 16)   2320        activation_62[0][0]              \n",
            "__________________________________________________________________________________________________\n",
            "batch_normalization_63 (BatchNo (None, 32, 32, 16)   64          conv2d_69[0][0]                  \n",
            "__________________________________________________________________________________________________\n",
            "activation_63 (Activation)      (None, 32, 32, 16)   0           batch_normalization_63[0][0]     \n",
            "__________________________________________________________________________________________________\n",
            "conv2d_70 (Conv2D)              (None, 32, 32, 16)   2320        activation_63[0][0]              \n",
            "__________________________________________________________________________________________________\n",
            "batch_normalization_64 (BatchNo (None, 32, 32, 16)   64          conv2d_70[0][0]                  \n",
            "__________________________________________________________________________________________________\n",
            "add_30 (Add)                    (None, 32, 32, 16)   0           activation_62[0][0]              \n",
            "                                                                 batch_normalization_64[0][0]     \n",
            "__________________________________________________________________________________________________\n",
            "activation_64 (Activation)      (None, 32, 32, 16)   0           add_30[0][0]                     \n",
            "__________________________________________________________________________________________________\n",
            "conv2d_71 (Conv2D)              (None, 16, 16, 32)   4640        activation_64[0][0]              \n",
            "__________________________________________________________________________________________________\n",
            "batch_normalization_65 (BatchNo (None, 16, 16, 32)   128         conv2d_71[0][0]                  \n",
            "__________________________________________________________________________________________________\n",
            "activation_65 (Activation)      (None, 16, 16, 32)   0           batch_normalization_65[0][0]     \n",
            "__________________________________________________________________________________________________\n",
            "conv2d_72 (Conv2D)              (None, 16, 16, 32)   9248        activation_65[0][0]              \n",
            "__________________________________________________________________________________________________\n",
            "conv2d_73 (Conv2D)              (None, 16, 16, 32)   544         activation_64[0][0]              \n",
            "__________________________________________________________________________________________________\n",
            "batch_normalization_66 (BatchNo (None, 16, 16, 32)   128         conv2d_72[0][0]                  \n",
            "__________________________________________________________________________________________________\n",
            "add_31 (Add)                    (None, 16, 16, 32)   0           conv2d_73[0][0]                  \n",
            "                                                                 batch_normalization_66[0][0]     \n",
            "__________________________________________________________________________________________________\n",
            "activation_66 (Activation)      (None, 16, 16, 32)   0           add_31[0][0]                     \n",
            "__________________________________________________________________________________________________\n",
            "conv2d_74 (Conv2D)              (None, 16, 16, 32)   9248        activation_66[0][0]              \n",
            "__________________________________________________________________________________________________\n",
            "batch_normalization_67 (BatchNo (None, 16, 16, 32)   128         conv2d_74[0][0]                  \n",
            "__________________________________________________________________________________________________\n",
            "activation_67 (Activation)      (None, 16, 16, 32)   0           batch_normalization_67[0][0]     \n",
            "__________________________________________________________________________________________________\n",
            "conv2d_75 (Conv2D)              (None, 16, 16, 32)   9248        activation_67[0][0]              \n",
            "__________________________________________________________________________________________________\n",
            "batch_normalization_68 (BatchNo (None, 16, 16, 32)   128         conv2d_75[0][0]                  \n",
            "__________________________________________________________________________________________________\n",
            "add_32 (Add)                    (None, 16, 16, 32)   0           activation_66[0][0]              \n",
            "                                                                 batch_normalization_68[0][0]     \n",
            "__________________________________________________________________________________________________\n",
            "activation_68 (Activation)      (None, 16, 16, 32)   0           add_32[0][0]                     \n",
            "__________________________________________________________________________________________________\n",
            "conv2d_76 (Conv2D)              (None, 16, 16, 32)   9248        activation_68[0][0]              \n",
            "__________________________________________________________________________________________________\n",
            "batch_normalization_69 (BatchNo (None, 16, 16, 32)   128         conv2d_76[0][0]                  \n",
            "__________________________________________________________________________________________________\n",
            "activation_69 (Activation)      (None, 16, 16, 32)   0           batch_normalization_69[0][0]     \n",
            "__________________________________________________________________________________________________\n",
            "conv2d_77 (Conv2D)              (None, 16, 16, 32)   9248        activation_69[0][0]              \n",
            "__________________________________________________________________________________________________\n",
            "batch_normalization_70 (BatchNo (None, 16, 16, 32)   128         conv2d_77[0][0]                  \n",
            "__________________________________________________________________________________________________\n",
            "add_33 (Add)                    (None, 16, 16, 32)   0           activation_68[0][0]              \n",
            "                                                                 batch_normalization_70[0][0]     \n",
            "__________________________________________________________________________________________________\n",
            "activation_70 (Activation)      (None, 16, 16, 32)   0           add_33[0][0]                     \n",
            "__________________________________________________________________________________________________\n",
            "conv2d_78 (Conv2D)              (None, 8, 8, 64)     18496       activation_70[0][0]              \n",
            "__________________________________________________________________________________________________\n",
            "batch_normalization_71 (BatchNo (None, 8, 8, 64)     256         conv2d_78[0][0]                  \n",
            "__________________________________________________________________________________________________\n",
            "activation_71 (Activation)      (None, 8, 8, 64)     0           batch_normalization_71[0][0]     \n",
            "__________________________________________________________________________________________________\n",
            "conv2d_79 (Conv2D)              (None, 8, 8, 64)     36928       activation_71[0][0]              \n",
            "__________________________________________________________________________________________________\n",
            "conv2d_80 (Conv2D)              (None, 8, 8, 64)     2112        activation_70[0][0]              \n",
            "__________________________________________________________________________________________________\n",
            "batch_normalization_72 (BatchNo (None, 8, 8, 64)     256         conv2d_79[0][0]                  \n",
            "__________________________________________________________________________________________________\n",
            "add_34 (Add)                    (None, 8, 8, 64)     0           conv2d_80[0][0]                  \n",
            "                                                                 batch_normalization_72[0][0]     \n",
            "__________________________________________________________________________________________________\n",
            "activation_72 (Activation)      (None, 8, 8, 64)     0           add_34[0][0]                     \n",
            "__________________________________________________________________________________________________\n",
            "conv2d_81 (Conv2D)              (None, 8, 8, 64)     36928       activation_72[0][0]              \n",
            "__________________________________________________________________________________________________\n",
            "batch_normalization_73 (BatchNo (None, 8, 8, 64)     256         conv2d_81[0][0]                  \n",
            "__________________________________________________________________________________________________\n",
            "activation_73 (Activation)      (None, 8, 8, 64)     0           batch_normalization_73[0][0]     \n",
            "__________________________________________________________________________________________________\n",
            "conv2d_82 (Conv2D)              (None, 8, 8, 64)     36928       activation_73[0][0]              \n",
            "__________________________________________________________________________________________________\n",
            "batch_normalization_74 (BatchNo (None, 8, 8, 64)     256         conv2d_82[0][0]                  \n",
            "__________________________________________________________________________________________________\n",
            "add_35 (Add)                    (None, 8, 8, 64)     0           activation_72[0][0]              \n",
            "                                                                 batch_normalization_74[0][0]     \n",
            "__________________________________________________________________________________________________\n",
            "activation_74 (Activation)      (None, 8, 8, 64)     0           add_35[0][0]                     \n",
            "__________________________________________________________________________________________________\n",
            "conv2d_83 (Conv2D)              (None, 8, 8, 64)     36928       activation_74[0][0]              \n",
            "__________________________________________________________________________________________________\n",
            "batch_normalization_75 (BatchNo (None, 8, 8, 64)     256         conv2d_83[0][0]                  \n",
            "__________________________________________________________________________________________________\n",
            "activation_75 (Activation)      (None, 8, 8, 64)     0           batch_normalization_75[0][0]     \n",
            "__________________________________________________________________________________________________\n",
            "conv2d_84 (Conv2D)              (None, 8, 8, 64)     36928       activation_75[0][0]              \n",
            "__________________________________________________________________________________________________\n",
            "batch_normalization_76 (BatchNo (None, 8, 8, 64)     256         conv2d_84[0][0]                  \n",
            "__________________________________________________________________________________________________\n",
            "add_36 (Add)                    (None, 8, 8, 64)     0           activation_74[0][0]              \n",
            "                                                                 batch_normalization_76[0][0]     \n",
            "__________________________________________________________________________________________________\n",
            "activation_76 (Activation)      (None, 8, 8, 64)     0           add_36[0][0]                     \n",
            "__________________________________________________________________________________________________\n",
            "average_pooling2d_4 (AveragePoo (None, 1, 1, 64)     0           activation_76[0][0]              \n",
            "__________________________________________________________________________________________________\n",
            "flatten_4 (Flatten)             (None, 64)           0           average_pooling2d_4[0][0]        \n",
            "__________________________________________________________________________________________________\n",
            "dense_4 (Dense)                 (None, 10)           650         flatten_4[0][0]                  \n",
            "==================================================================================================\n",
            "Total params: 274,442\n",
            "Trainable params: 273,066\n",
            "Non-trainable params: 1,376\n",
            "__________________________________________________________________________________________________\n",
            "ResNet20v2\n",
            "Using real-time data augmentation.\n",
            "Epoch 1/50\n",
            "Learning rate:  0.001\n",
            "1563/1563 [==============================] - 857s 548ms/step - loss: 0.5457 - acc: 0.8839 - val_loss: 0.6602 - val_acc: 0.8498\n",
            "\n",
            "Epoch 00001: val_acc improved from -inf to 0.84980, saving model to /content/drive/My Drive/epi-Assignment4B/saved_models/cifar10_ResNet20v2_model.001.h5\n",
            "Epoch 2/50\n",
            "Learning rate:  0.001\n",
            "1563/1563 [==============================] - 836s 535ms/step - loss: 0.5420 - acc: 0.8855 - val_loss: 0.6614 - val_acc: 0.8517\n",
            "\n",
            "Epoch 00002: val_acc improved from 0.84980 to 0.85170, saving model to /content/drive/My Drive/epi-Assignment4B/saved_models/cifar10_ResNet20v2_model.002.h5\n",
            "Epoch 3/50\n",
            "Learning rate:  0.001\n",
            "1563/1563 [==============================] - 842s 538ms/step - loss: 0.5353 - acc: 0.8866 - val_loss: 0.8893 - val_acc: 0.8006\n",
            "\n",
            "Epoch 00003: val_acc did not improve from 0.85170\n",
            "Epoch 4/50\n",
            "Learning rate:  0.001\n",
            "1563/1563 [==============================] - 862s 551ms/step - loss: 0.5322 - acc: 0.8884 - val_loss: 0.7568 - val_acc: 0.8355\n",
            "\n",
            "Epoch 00004: val_acc did not improve from 0.85170\n",
            "Epoch 5/50\n",
            "Learning rate:  0.001\n",
            "1563/1563 [==============================] - 842s 539ms/step - loss: 0.5347 - acc: 0.8875 - val_loss: 0.7312 - val_acc: 0.8351\n",
            "\n",
            "Epoch 00005: val_acc did not improve from 0.85170\n",
            "Epoch 6/50\n",
            "Learning rate:  0.001\n",
            "1563/1563 [==============================] - 831s 532ms/step - loss: 0.5340 - acc: 0.8873 - val_loss: 0.6940 - val_acc: 0.8395\n",
            "\n",
            "Epoch 00006: val_acc did not improve from 0.85170\n",
            "Epoch 7/50\n",
            "Learning rate:  0.001\n",
            "1563/1563 [==============================] - 824s 527ms/step - loss: 0.5285 - acc: 0.8902 - val_loss: 0.6973 - val_acc: 0.8401\n",
            "\n",
            "Epoch 00007: val_acc did not improve from 0.85170\n",
            "Epoch 8/50\n",
            "Learning rate:  0.001\n",
            "1563/1563 [==============================] - 845s 540ms/step - loss: 0.5285 - acc: 0.8903 - val_loss: 0.6908 - val_acc: 0.8470\n",
            "\n",
            "Epoch 00008: val_acc did not improve from 0.85170\n",
            "Epoch 9/50\n",
            "Learning rate:  0.001\n",
            "1563/1563 [==============================] - 841s 538ms/step - loss: 0.5278 - acc: 0.8891 - val_loss: 0.9606 - val_acc: 0.7821\n",
            "\n",
            "Epoch 00009: val_acc did not improve from 0.85170\n",
            "Epoch 10/50\n",
            "Learning rate:  0.001\n",
            "1563/1563 [==============================] - 836s 535ms/step - loss: 0.5261 - acc: 0.8906 - val_loss: 0.6781 - val_acc: 0.8449\n",
            "\n",
            "Epoch 00010: val_acc did not improve from 0.85170\n",
            "Epoch 11/50\n",
            "Learning rate:  0.001\n",
            "1563/1563 [==============================] - 838s 536ms/step - loss: 0.5259 - acc: 0.8899 - val_loss: 0.7523 - val_acc: 0.8240\n",
            "\n",
            "Epoch 00011: val_acc did not improve from 0.85170\n",
            "Epoch 12/50\n",
            "Learning rate:  0.001\n",
            "1563/1563 [==============================] - 830s 531ms/step - loss: 0.5240 - acc: 0.8915 - val_loss: 0.7085 - val_acc: 0.8404\n",
            "\n",
            "Epoch 00012: val_acc did not improve from 0.85170\n",
            "Epoch 13/50\n",
            "Learning rate:  0.001\n",
            "1563/1563 [==============================] - 837s 535ms/step - loss: 0.5194 - acc: 0.8918 - val_loss: 0.7152 - val_acc: 0.8369\n",
            "\n",
            "Epoch 00013: val_acc did not improve from 0.85170\n",
            "Epoch 14/50\n",
            "Learning rate:  0.001\n",
            "1563/1563 [==============================] - 825s 528ms/step - loss: 0.5228 - acc: 0.8917 - val_loss: 0.7248 - val_acc: 0.8355\n",
            "\n",
            "Epoch 00014: val_acc did not improve from 0.85170\n",
            "Epoch 15/50\n",
            "Learning rate:  0.001\n",
            "1563/1563 [==============================] - 826s 529ms/step - loss: 0.5156 - acc: 0.8952 - val_loss: 0.7102 - val_acc: 0.8457\n",
            "\n",
            "Epoch 00015: val_acc did not improve from 0.85170\n",
            "Epoch 16/50\n",
            "Learning rate:  0.001\n",
            "1563/1563 [==============================] - 815s 522ms/step - loss: 0.5179 - acc: 0.8930 - val_loss: 0.7460 - val_acc: 0.8330\n",
            "\n",
            "Epoch 00016: val_acc did not improve from 0.85170\n",
            "Epoch 17/50\n",
            "Learning rate:  0.001\n",
            "1563/1563 [==============================] - 808s 517ms/step - loss: 0.5166 - acc: 0.8934 - val_loss: 0.6385 - val_acc: 0.8568\n",
            "\n",
            "Epoch 00017: val_acc improved from 0.85170 to 0.85680, saving model to /content/drive/My Drive/epi-Assignment4B/saved_models/cifar10_ResNet20v2_model.017.h5\n",
            "Epoch 18/50\n",
            "Learning rate:  0.001\n",
            "1563/1563 [==============================] - 810s 518ms/step - loss: 0.5185 - acc: 0.8938 - val_loss: 0.6516 - val_acc: 0.8513\n",
            "\n",
            "Epoch 00018: val_acc did not improve from 0.85680\n",
            "Epoch 19/50\n",
            "Learning rate:  0.001\n",
            "1563/1563 [==============================] - 808s 517ms/step - loss: 0.5115 - acc: 0.8962 - val_loss: 0.7360 - val_acc: 0.8313\n",
            "\n",
            "Epoch 00019: val_acc did not improve from 0.85680\n",
            "Epoch 20/50\n",
            "Learning rate:  0.001\n",
            "1563/1563 [==============================] - 809s 518ms/step - loss: 0.5121 - acc: 0.8945 - val_loss: 0.6990 - val_acc: 0.8384\n",
            "\n",
            "Epoch 00020: val_acc did not improve from 0.85680\n",
            "Epoch 21/50\n",
            "Learning rate:  0.001\n",
            "1563/1563 [==============================] - 819s 524ms/step - loss: 0.5147 - acc: 0.8942 - val_loss: 0.7315 - val_acc: 0.8364\n",
            "\n",
            "Epoch 00021: val_acc did not improve from 0.85680\n",
            "Epoch 22/50\n",
            "Learning rate:  0.0001\n",
            "1563/1563 [==============================] - 822s 526ms/step - loss: 0.4303 - acc: 0.9228 - val_loss: 0.5125 - val_acc: 0.8957\n",
            "\n",
            "Epoch 00022: val_acc improved from 0.85680 to 0.89570, saving model to /content/drive/My Drive/epi-Assignment4B/saved_models/cifar10_ResNet20v2_model.022.h5\n",
            "Epoch 23/50\n",
            "Learning rate:  0.0001\n",
            "1563/1563 [==============================] - 812s 519ms/step - loss: 0.3933 - acc: 0.9344 - val_loss: 0.5033 - val_acc: 0.8989\n",
            "\n",
            "Epoch 00023: val_acc improved from 0.89570 to 0.89890, saving model to /content/drive/My Drive/epi-Assignment4B/saved_models/cifar10_ResNet20v2_model.023.h5\n",
            "Epoch 24/50\n",
            "Learning rate:  0.0001\n",
            "1563/1563 [==============================] - 806s 515ms/step - loss: 0.3780 - acc: 0.9393 - val_loss: 0.4840 - val_acc: 0.9047\n",
            "\n",
            "Epoch 00024: val_acc improved from 0.89890 to 0.90470, saving model to /content/drive/My Drive/epi-Assignment4B/saved_models/cifar10_ResNet20v2_model.024.h5\n",
            "Epoch 25/50\n",
            "Learning rate:  0.0001\n",
            "1563/1563 [==============================] - 805s 515ms/step - loss: 0.3639 - acc: 0.9426 - val_loss: 0.4824 - val_acc: 0.9052\n",
            "\n",
            "Epoch 00025: val_acc improved from 0.90470 to 0.90520, saving model to /content/drive/My Drive/epi-Assignment4B/saved_models/cifar10_ResNet20v2_model.025.h5\n",
            "Epoch 26/50\n",
            "Learning rate:  0.0001\n",
            "1563/1563 [==============================] - 811s 519ms/step - loss: 0.3507 - acc: 0.9461 - val_loss: 0.4883 - val_acc: 0.9046\n",
            "\n",
            "Epoch 00026: val_acc did not improve from 0.90520\n",
            "Epoch 27/50\n",
            "Learning rate:  0.0001\n",
            "1563/1563 [==============================] - 822s 526ms/step - loss: 0.3418 - acc: 0.9468 - val_loss: 0.4743 - val_acc: 0.9082\n",
            "\n",
            "Epoch 00027: val_acc improved from 0.90520 to 0.90820, saving model to /content/drive/My Drive/epi-Assignment4B/saved_models/cifar10_ResNet20v2_model.027.h5\n",
            "Epoch 28/50\n",
            "Learning rate:  0.0001\n",
            "1563/1563 [==============================] - 815s 522ms/step - loss: 0.3360 - acc: 0.9484 - val_loss: 0.4688 - val_acc: 0.9072\n",
            "\n",
            "Epoch 00028: val_acc did not improve from 0.90820\n",
            "Epoch 29/50\n",
            "Learning rate:  0.0001\n",
            "1563/1563 [==============================] - 808s 517ms/step - loss: 0.3271 - acc: 0.9498 - val_loss: 0.4749 - val_acc: 0.9051\n",
            "\n",
            "Epoch 00029: val_acc did not improve from 0.90820\n",
            "Epoch 30/50\n",
            "Learning rate:  0.0001\n",
            "1563/1563 [==============================] - 840s 538ms/step - loss: 0.3199 - acc: 0.9514 - val_loss: 0.4741 - val_acc: 0.9066\n",
            "\n",
            "Epoch 00030: val_acc did not improve from 0.90820\n",
            "Epoch 31/50\n",
            "Learning rate:  0.0001\n",
            "1563/1563 [==============================] - 846s 541ms/step - loss: 0.3179 - acc: 0.9520 - val_loss: 0.4647 - val_acc: 0.9088\n",
            "\n",
            "Epoch 00031: val_acc improved from 0.90820 to 0.90880, saving model to /content/drive/My Drive/epi-Assignment4B/saved_models/cifar10_ResNet20v2_model.031.h5\n",
            "Epoch 32/50\n",
            "Learning rate:  0.0001\n",
            "1563/1563 [==============================] - 814s 521ms/step - loss: 0.3065 - acc: 0.9533 - val_loss: 0.4683 - val_acc: 0.9094\n",
            "\n",
            "Epoch 00032: val_acc improved from 0.90880 to 0.90940, saving model to /content/drive/My Drive/epi-Assignment4B/saved_models/cifar10_ResNet20v2_model.032.h5\n",
            "Epoch 33/50\n",
            "Learning rate:  0.0001\n",
            "1563/1563 [==============================] - 808s 517ms/step - loss: 0.3032 - acc: 0.9552 - val_loss: 0.4639 - val_acc: 0.9077\n",
            "\n",
            "Epoch 00033: val_acc did not improve from 0.90940\n",
            "Epoch 34/50\n",
            "Learning rate:  0.0001\n",
            "1563/1563 [==============================] - 844s 540ms/step - loss: 0.2998 - acc: 0.9562 - val_loss: 0.4584 - val_acc: 0.9075\n",
            "\n",
            "Epoch 00034: val_acc did not improve from 0.90940\n",
            "Epoch 35/50\n",
            "Learning rate:  0.0001\n",
            "1563/1563 [==============================] - 864s 553ms/step - loss: 0.2936 - acc: 0.9571 - val_loss: 0.4662 - val_acc: 0.9089\n",
            "\n",
            "Epoch 00035: val_acc did not improve from 0.90940\n",
            "Epoch 36/50\n",
            "Learning rate:  0.0001\n",
            "1563/1563 [==============================] - 861s 551ms/step - loss: 0.2891 - acc: 0.9574 - val_loss: 0.4851 - val_acc: 0.9022\n",
            "\n",
            "Epoch 00036: val_acc did not improve from 0.90940\n",
            "Epoch 37/50\n",
            "Learning rate:  0.0001\n",
            "1563/1563 [==============================] - 844s 540ms/step - loss: 0.2840 - acc: 0.9588 - val_loss: 0.4787 - val_acc: 0.9058\n",
            "\n",
            "Epoch 00037: val_acc did not improve from 0.90940\n",
            "Epoch 38/50\n",
            "Learning rate:  0.0001\n",
            "1042/1563 [===================>..........] - ETA: 4:26 - loss: 0.2763 - acc: 0.9610Buffered data was truncated after reaching the output size limit."
          ],
          "name": "stdout"
        }
      ]
    },
    {
      "cell_type": "code",
      "metadata": {
        "id": "a9y6ALDVVhXc",
        "colab_type": "code",
        "colab": {}
      },
      "source": [
        ""
      ],
      "execution_count": 0,
      "outputs": []
    },
    {
      "cell_type": "code",
      "metadata": {
        "id": "BkVm4dZSQQ6C",
        "colab_type": "code",
        "outputId": "be207caa-8f43-48e9-f2bf-0e407d830e1f",
        "colab": {
          "base_uri": "https://localhost:8080/",
          "height": 54
        }
      },
      "source": [
        "from google.colab import drive\n",
        "drive.mount('/content/drive')"
      ],
      "execution_count": 106,
      "outputs": [
        {
          "output_type": "stream",
          "text": [
            "Drive already mounted at /content/drive; to attempt to forcibly remount, call drive.mount(\"/content/drive\", force_remount=True).\n"
          ],
          "name": "stdout"
        }
      ]
    },
    {
      "cell_type": "code",
      "metadata": {
        "id": "WB2sK2afcuWq",
        "colab_type": "code",
        "colab": {}
      },
      "source": [
        "model = load_model('/content/drive/My Drive/epi-Assignment4B/saved_models/cifar10_ResNet20v2_model.032.h5')"
      ],
      "execution_count": 0,
      "outputs": []
    },
    {
      "cell_type": "code",
      "metadata": {
        "id": "TBOT6-IxUMoX",
        "colab_type": "code",
        "outputId": "241e6b58-296a-41d4-e771-5d3e0980a301",
        "colab": {
          "base_uri": "https://localhost:8080/",
          "height": 34
        }
      },
      "source": [
        "os.getcwd()"
      ],
      "execution_count": 108,
      "outputs": [
        {
          "output_type": "execute_result",
          "data": {
            "text/plain": [
              "'/content'"
            ]
          },
          "metadata": {
            "tags": []
          },
          "execution_count": 108
        }
      ]
    },
    {
      "cell_type": "code",
      "metadata": {
        "id": "trWvmgIiUPEE",
        "colab_type": "code",
        "colab": {}
      },
      "source": [
        "import cv2"
      ],
      "execution_count": 0,
      "outputs": []
    },
    {
      "cell_type": "code",
      "metadata": {
        "id": "Yc5EDoT06hQD",
        "colab_type": "code",
        "colab": {}
      },
      "source": [
        "images = x_train[1:11]\n",
        "preds = [model.predict(np.expand_dims(image,axis=0)) for image in images]\n",
        "class_idx = [np.argmax(pred) for pred in preds]\n",
        "class_output = [model.output[:, class_id] for class_id in class_idx]\n",
        "last_conv_layer = model.get_layer(\"conv2d_84\")"
      ],
      "execution_count": 0,
      "outputs": []
    },
    {
      "cell_type": "code",
      "metadata": {
        "id": "iY7GJSMnZIPc",
        "colab_type": "code",
        "colab": {}
      },
      "source": [
        "gradcam_imgs = []\n",
        "for i in range(0,10):\n",
        "  img = images[i]\n",
        "  grads = K.gradients(class_output[i], last_conv_layer.output)[0]\n",
        "  \n",
        "  pooled_grads = K.mean(grads, axis=(0, 1, 2))\n",
        "  \n",
        "  \n",
        "  iterate = K.function([model.input], [pooled_grads, last_conv_layer.output[0]])\n",
        "\n",
        "  pooled_grads_value, conv_layer_output_value = iterate([np.expand_dims(img,axis=0)])\n",
        "\n",
        "  for i in range(64):\n",
        "    conv_layer_output_value[:, :, i] *= pooled_grads_value[i]\n",
        "\n",
        "  heatmap = np.mean(conv_layer_output_value, axis = -1)\n",
        "  heatmap = np.maximum(heatmap, 0)\n",
        "  heatmap /= np.max(heatmap)\n",
        "  heatmap = cv2.resize(heatmap, (img.shape[1], img.shape[0]))\n",
        "  heatmap = np.uint8(255 * heatmap)\n",
        "  heatmap = cv2.applyColorMap(heatmap, cv2.COLORMAP_JET)\n",
        "  heatmap = np.float64(heatmap)\n",
        "\n",
        "  img = img.astype(float)\n",
        "  superimposed_img = cv2.addWeighted(img, 0.5, heatmap, 0.5, 0)\n",
        "  concat_imgs = np.hstack((img,superimposed_img))\n",
        "  gradcam_imgs.append(concat_imgs)\n"
      ],
      "execution_count": 0,
      "outputs": []
    },
    {
      "cell_type": "code",
      "metadata": {
        "id": "5uqFNNEl6onv",
        "colab_type": "code",
        "outputId": "9737f375-9e54-4a4b-df20-7751d7c743b2",
        "colab": {
          "base_uri": "https://localhost:8080/",
          "height": 1000
        }
      },
      "source": [
        "for i in range(0,len(gradcam_imgs)):\n",
        "  f = plt.figure(figsize=(5,5))\n",
        "  plt.imshow(gradcam_imgs[i])\n",
        "  #plt.imshow(images[i])"
      ],
      "execution_count": 157,
      "outputs": [
        {
          "output_type": "stream",
          "text": [
            "Clipping input data to the valid range for imshow with RGB data ([0..1] for floats or [0..255] for integers).\n",
            "Clipping input data to the valid range for imshow with RGB data ([0..1] for floats or [0..255] for integers).\n",
            "Clipping input data to the valid range for imshow with RGB data ([0..1] for floats or [0..255] for integers).\n",
            "Clipping input data to the valid range for imshow with RGB data ([0..1] for floats or [0..255] for integers).\n",
            "Clipping input data to the valid range for imshow with RGB data ([0..1] for floats or [0..255] for integers).\n",
            "Clipping input data to the valid range for imshow with RGB data ([0..1] for floats or [0..255] for integers).\n",
            "Clipping input data to the valid range for imshow with RGB data ([0..1] for floats or [0..255] for integers).\n",
            "Clipping input data to the valid range for imshow with RGB data ([0..1] for floats or [0..255] for integers).\n",
            "Clipping input data to the valid range for imshow with RGB data ([0..1] for floats or [0..255] for integers).\n",
            "Clipping input data to the valid range for imshow with RGB data ([0..1] for floats or [0..255] for integers).\n"
          ],
          "name": "stderr"
        },
        {
          "output_type": "display_data",
          "data": {
            "image/png": "[encoded data removed]",
            "text/plain": [
              "<Figure size 360x360 with 1 Axes>"
            ]
          },
          "metadata": {
            "tags": []
          }
        },
        {
          "output_type": "display_data",
          "data": {
            "image/png": "[encoded data removed]",
            "text/plain": [
              "<Figure size 360x360 with 1 Axes>"
            ]
          },
          "metadata": {
            "tags": []
          }
        },
        {
          "output_type": "display_data",
          "data": {
            "image/png": "[encoded data removed]",
            "text/plain": [
              "<Figure size 360x360 with 1 Axes>"
            ]
          },
          "metadata": {
            "tags": []
          }
        },
        {
          "output_type": "display_data",
          "data": {
            "image/png": "[encoded data removed]",
            "text/plain": [
              "<Figure size 360x360 with 1 Axes>"
            ]
          },
          "metadata": {
            "tags": []
          }
        },
        {
          "output_type": "display_data",
          "data": {
            "image/png": "[encoded data removed]",
            "text/plain": [
              "<Figure size 360x360 with 1 Axes>"
            ]
          },
          "metadata": {
            "tags": []
          }
        },
        {
          "output_type": "display_data",
          "data": {
            "image/png": "[encoded data removed]",
            "text/plain": [
              "<Figure size 360x360 with 1 Axes>"
            ]
          },
          "metadata": {
            "tags": []
          }
        },
        {
          "output_type": "display_data",
          "data": {
            "image/png": "[encoded data removed]",
            "text/plain": [
              "<Figure size 360x360 with 1 Axes>"
            ]
          },
          "metadata": {
            "tags": []
          }
        },
        {
          "output_type": "display_data",
          "data": {
            "image/png": "[encoded data removed]",
            "text/plain": [
              "<Figure size 360x360 with 1 Axes>"
            ]
          },
          "metadata": {
            "tags": []
          }
        },
        {
          "output_type": "display_data",
          "data": {
            "image/png": "[encoded data removed]",
            "text/plain": [
              "<Figure size 360x360 with 1 Axes>"
            ]
          },
          "metadata": {
            "tags": []
          }
        },
        {
          "output_type": "display_data",
          "data": {
            "image/png": "[encoded data removed]",
            "text/plain": [
              "<Figure size 360x360 with 1 Axes>"
            ]
          },
          "metadata": {
            "tags": []
          }
        }
      ]
    },
    {
      "cell_type": "code",
      "metadata": {
        "id": "ZLR5JBLPwuvE",
        "colab_type": "code",
        "colab": {}
      },
      "source": [
        ""
      ],
      "execution_count": 0,
      "outputs": []
    },
    {
      "cell_type": "code",
      "metadata": {
        "id": "8y_4Ane86pq2",
        "colab_type": "code",
        "colab": {}
      },
      "source": [
        ""
      ],
      "execution_count": 0,
      "outputs": []
    },
    {
      "cell_type": "code",
      "metadata": {
        "id": "Fzhz76tX-BKu",
        "colab_type": "code",
        "colab": {}
      },
      "source": [
        ""
      ],
      "execution_count": 0,
      "outputs": []
    },
    {
      "cell_type": "code",
      "metadata": {
        "id": "58h-0Mh362gs",
        "colab_type": "code",
        "colab": {}
      },
      "source": [
        ""
      ],
      "execution_count": 0,
      "outputs": []
    },
    {
      "cell_type": "code",
      "metadata": {
        "id": "JB-0DJZq63de",
        "colab_type": "code",
        "colab": {}
      },
      "source": [
        ""
      ],
      "execution_count": 0,
      "outputs": []
    },
    {
      "cell_type": "code",
      "metadata": {
        "id": "Rh8ofx1Y7CvV",
        "colab_type": "code",
        "colab": {}
      },
      "source": [
        ""
      ],
      "execution_count": 0,
      "outputs": []
    },
    {
      "cell_type": "code",
      "metadata": {
        "id": "NcjDknlHUYXr",
        "colab_type": "code",
        "colab": {}
      },
      "source": [
        ""
      ],
      "execution_count": 0,
      "outputs": []
    },
    {
      "cell_type": "code",
      "metadata": {
        "id": "meB20WjUAjbW",
        "colab_type": "code",
        "colab": {}
      },
      "source": [
        ""
      ],
      "execution_count": 0,
      "outputs": []
    },
    {
      "cell_type": "code",
      "metadata": {
        "id": "xFBSSqCpBLVC",
        "colab_type": "code",
        "colab": {}
      },
      "source": [
        ""
      ],
      "execution_count": 0,
      "outputs": []
    },
    {
      "cell_type": "code",
      "metadata": {
        "id": "JE85au_0PfiL",
        "colab_type": "code",
        "colab": {
          "base_uri": "https://localhost:8080/",
          "height": 34
        },
        "outputId": "d6842662-8b37-4887-edb0-63d791b22a72"
      },
      "source": [
        ""
      ],
      "execution_count": 88,
      "outputs": [
        {
          "output_type": "execute_result",
          "data": {
            "text/plain": [
              "(32, 32, 3)"
            ]
          },
          "metadata": {
            "tags": []
          },
          "execution_count": 88
        }
      ]
    },
    {
      "cell_type": "code",
      "metadata": {
        "id": "NnSKUQOBUS1m",
        "colab_type": "code",
        "colab": {
          "base_uri": "https://localhost:8080/",
          "height": 34
        },
        "outputId": "8d557a39-3cbb-4b6d-e574-e665501a39b4"
      },
      "source": [
        "img.shape"
      ],
      "execution_count": 89,
      "outputs": [
        {
          "output_type": "execute_result",
          "data": {
            "text/plain": [
              "(32, 32, 3)"
            ]
          },
          "metadata": {
            "tags": []
          },
          "execution_count": 89
        }
      ]
    },
    {
      "cell_type": "code",
      "metadata": {
        "id": "oTliUh22P8Tr",
        "colab_type": "code",
        "colab": {}
      },
      "source": [
        ""
      ],
      "execution_count": 0,
      "outputs": []
    },
    {
      "cell_type": "code",
      "metadata": {
        "id": "2qpNEFmrBc_T",
        "colab_type": "code",
        "colab": {}
      },
      "source": [
        "\n"
      ],
      "execution_count": 0,
      "outputs": []
    },
    {
      "cell_type": "code",
      "metadata": {
        "id": "vM87j9ZhDCDm",
        "colab_type": "code",
        "outputId": "65f4a4cd-5f19-407c-878c-edf0f2a48eeb",
        "colab": {
          "base_uri": "https://localhost:8080/",
          "height": 49
        }
      },
      "source": [
        ""
      ],
      "execution_count": 92,
      "outputs": [
        {
          "output_type": "display_data",
          "data": {
            "image/png": "[encoded data removed]",
            "text/plain": [
              "<PIL.Image.Image image mode=RGB size=32x32 at 0x7F4D71B63E80>"
            ]
          },
          "metadata": {
            "tags": []
          }
        }
      ]
    },
    {
      "cell_type": "code",
      "metadata": {
        "id": "2IK52K9HXH_4",
        "colab_type": "code",
        "outputId": "38162b1f-f885-40d2-c4c8-90d91275a735",
        "colab": {
          "base_uri": "https://localhost:8080/",
          "height": 300
        }
      },
      "source": [
        ""
      ],
      "execution_count": 121,
      "outputs": [
        {
          "output_type": "stream",
          "text": [
            "Clipping input data to the valid range for imshow with RGB data ([0..1] for floats or [0..255] for integers).\n"
          ],
          "name": "stderr"
        },
        {
          "output_type": "execute_result",
          "data": {
            "text/plain": [
              "<matplotlib.image.AxesImage at 0x7f4d6fd1a748>"
            ]
          },
          "metadata": {
            "tags": []
          },
          "execution_count": 121
        },
        {
          "output_type": "display_data",
          "data": {
            "image/png": "[encoded data removed]",
            "text/plain": [
              "<Figure size 432x288 with 1 Axes>"
            ]
          },
          "metadata": {
            "tags": []
          }
        }
      ]
    },
    {
      "cell_type": "code",
      "metadata": {
        "id": "GrjsmKsZCWpW",
        "colab_type": "code",
        "outputId": "7b09c255-3c1e-4fe8-cafc-9684b0e68779",
        "colab": {
          "base_uri": "https://localhost:8080/",
          "height": 317
        }
      },
      "source": [
        ""
      ],
      "execution_count": 119,
      "outputs": [
        {
          "output_type": "stream",
          "text": [
            "Clipping input data to the valid range for imshow with RGB data ([0..1] for floats or [0..255] for integers).\n",
            "Clipping input data to the valid range for imshow with RGB data ([0..1] for floats or [0..255] for integers).\n"
          ],
          "name": "stderr"
        },
        {
          "output_type": "execute_result",
          "data": {
            "text/plain": [
              "<matplotlib.image.AxesImage at 0x7f4d6ffbd1d0>"
            ]
          },
          "metadata": {
            "tags": []
          },
          "execution_count": 119
        },
        {
          "output_type": "display_data",
          "data": {
            "image/png": "[encoded data removed]",
            "text/plain": [
              "<Figure size 432x288 with 1 Axes>"
            ]
          },
          "metadata": {
            "tags": []
          }
        }
      ]
    },
    {
      "cell_type": "code",
      "metadata": {
        "id": "pyXuQYoKBucs",
        "colab_type": "code",
        "colab": {}
      },
      "source": [
        ""
      ],
      "execution_count": 0,
      "outputs": []
    },
    {
      "cell_type": "code",
      "metadata": {
        "id": "zZkCN1noCGsQ",
        "colab_type": "code",
        "colab": {}
      },
      "source": [
        ""
      ],
      "execution_count": 0,
      "outputs": []
    },
    {
      "cell_type": "code",
      "metadata": {
        "id": "WvJEtUJKSgfE",
        "colab_type": "code",
        "colab": {}
      },
      "source": [
        ""
      ],
      "execution_count": 0,
      "outputs": []
    }
  ]
}